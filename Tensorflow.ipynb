{
 "cells": [
  {
   "cell_type": "code",
   "execution_count": 2,
   "metadata": {},
   "outputs": [
    {
     "name": "stdout",
     "output_type": "stream",
     "text": [
      "TensorFlow is already installed. Version: 2.14.0\n",
      "GPU is not available.\n",
      "Importing TensorFlow CPU version...\n",
      "Imported TensorFlow CPU version: 2.14.0\n"
     ]
    }
   ],
   "source": [
    "def check_gpu_and_install():\n",
    "    try:\n",
    "        # Try importing TensorFlow\n",
    "        import tensorflow as tf\n",
    "        print(f\"TensorFlow is already installed. Version: {tf.__version__}\")\n",
    "    except ImportError:\n",
    "        # Install TensorFlow\n",
    "        print(\"TensorFlow is not installed. Installing...\")\n",
    "        !pip install tensorflow\n",
    "\n",
    "    # Check if GPU is available\n",
    "    try:\n",
    "        import tensorflow as tf\n",
    "        if tf.config.list_physical_devices('GPU'):\n",
    "            print(\"GPU is available.\")\n",
    "            if 'tensorflow' in locals() or 'tensorflow' in globals():\n",
    "                print(f\"TensorFlow is already imported. GPU version: {tf.__version__}\")\n",
    "            else:\n",
    "                print(\"Importing TensorFlow GPU version...\")\n",
    "                import tensorflow as tf\n",
    "                print(f\"Imported TensorFlow GPU version: {tf.__version__}\")\n",
    "        else:\n",
    "            print(\"GPU is not available.\")\n",
    "            if 'tensorflow' in locals() or 'tensorflow' in globals():\n",
    "                print(f\"TensorFlow is already imported. CPU version: {tf.__version__}\")\n",
    "            else:\n",
    "                print(\"Importing TensorFlow CPU version...\")\n",
    "                import tensorflow as tf\n",
    "                print(f\"Imported TensorFlow CPU version: {tf.__version__}\")\n",
    "    except ImportError:\n",
    "        print(\"Error importing TensorFlow after installation.\")\n",
    "\n",
    "# Check GPU and install the appropriate version\n",
    "check_gpu_and_install()\n"
   ]
  }
 ],
 "metadata": {
  "kernelspec": {
   "display_name": "Python 3",
   "language": "python",
   "name": "python3"
  },
  "language_info": {
   "codemirror_mode": {
    "name": "ipython",
    "version": 3
   },
   "file_extension": ".py",
   "mimetype": "text/x-python",
   "name": "python",
   "nbconvert_exporter": "python",
   "pygments_lexer": "ipython3",
   "version": "3.10.7"
  }
 },
 "nbformat": 4,
 "nbformat_minor": 2
}
